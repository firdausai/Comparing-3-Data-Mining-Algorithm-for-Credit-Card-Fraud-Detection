{
 "cells": [
  {
   "cell_type": "markdown",
   "metadata": {},
   "source": [
    "# Logistic Regression"
   ]
  },
  {
   "cell_type": "code",
   "execution_count": 1,
   "metadata": {},
   "outputs": [],
   "source": [
    "import pandas as pd\n",
    "import numpy as np\n",
    "import seaborn as sns\n",
    "from sklearn.linear_model import LogisticRegression\n",
    "import sklearn.model_selection as model_selection\n",
    "import matplotlib.pyplot as plt"
   ]
  },
  {
   "cell_type": "code",
   "execution_count": 2,
   "metadata": {},
   "outputs": [
    {
     "data": {
      "text/html": [
       "<div>\n",
       "<style scoped>\n",
       "    .dataframe tbody tr th:only-of-type {\n",
       "        vertical-align: middle;\n",
       "    }\n",
       "\n",
       "    .dataframe tbody tr th {\n",
       "        vertical-align: top;\n",
       "    }\n",
       "\n",
       "    .dataframe thead th {\n",
       "        text-align: right;\n",
       "    }\n",
       "</style>\n",
       "<table border=\"1\" class=\"dataframe\">\n",
       "  <thead>\n",
       "    <tr style=\"text-align: right;\">\n",
       "      <th></th>\n",
       "      <th>Time</th>\n",
       "      <th>V1</th>\n",
       "      <th>V2</th>\n",
       "      <th>V3</th>\n",
       "      <th>V4</th>\n",
       "      <th>V5</th>\n",
       "      <th>V6</th>\n",
       "      <th>V7</th>\n",
       "      <th>V8</th>\n",
       "      <th>V9</th>\n",
       "      <th>...</th>\n",
       "      <th>V21</th>\n",
       "      <th>V22</th>\n",
       "      <th>V23</th>\n",
       "      <th>V24</th>\n",
       "      <th>V25</th>\n",
       "      <th>V26</th>\n",
       "      <th>V27</th>\n",
       "      <th>V28</th>\n",
       "      <th>Amount</th>\n",
       "      <th>Class</th>\n",
       "    </tr>\n",
       "  </thead>\n",
       "  <tbody>\n",
       "    <tr>\n",
       "      <th>0</th>\n",
       "      <td>0.0</td>\n",
       "      <td>-1.359807</td>\n",
       "      <td>-0.072781</td>\n",
       "      <td>2.536347</td>\n",
       "      <td>1.378155</td>\n",
       "      <td>-0.338321</td>\n",
       "      <td>0.462388</td>\n",
       "      <td>0.239599</td>\n",
       "      <td>0.098698</td>\n",
       "      <td>0.363787</td>\n",
       "      <td>...</td>\n",
       "      <td>-0.018307</td>\n",
       "      <td>0.277838</td>\n",
       "      <td>-0.110474</td>\n",
       "      <td>0.066928</td>\n",
       "      <td>0.128539</td>\n",
       "      <td>-0.189115</td>\n",
       "      <td>0.133558</td>\n",
       "      <td>-0.021053</td>\n",
       "      <td>149.62</td>\n",
       "      <td>0</td>\n",
       "    </tr>\n",
       "    <tr>\n",
       "      <th>1</th>\n",
       "      <td>0.0</td>\n",
       "      <td>1.191857</td>\n",
       "      <td>0.266151</td>\n",
       "      <td>0.166480</td>\n",
       "      <td>0.448154</td>\n",
       "      <td>0.060018</td>\n",
       "      <td>-0.082361</td>\n",
       "      <td>-0.078803</td>\n",
       "      <td>0.085102</td>\n",
       "      <td>-0.255425</td>\n",
       "      <td>...</td>\n",
       "      <td>-0.225775</td>\n",
       "      <td>-0.638672</td>\n",
       "      <td>0.101288</td>\n",
       "      <td>-0.339846</td>\n",
       "      <td>0.167170</td>\n",
       "      <td>0.125895</td>\n",
       "      <td>-0.008983</td>\n",
       "      <td>0.014724</td>\n",
       "      <td>2.69</td>\n",
       "      <td>0</td>\n",
       "    </tr>\n",
       "    <tr>\n",
       "      <th>2</th>\n",
       "      <td>1.0</td>\n",
       "      <td>-1.358354</td>\n",
       "      <td>-1.340163</td>\n",
       "      <td>1.773209</td>\n",
       "      <td>0.379780</td>\n",
       "      <td>-0.503198</td>\n",
       "      <td>1.800499</td>\n",
       "      <td>0.791461</td>\n",
       "      <td>0.247676</td>\n",
       "      <td>-1.514654</td>\n",
       "      <td>...</td>\n",
       "      <td>0.247998</td>\n",
       "      <td>0.771679</td>\n",
       "      <td>0.909412</td>\n",
       "      <td>-0.689281</td>\n",
       "      <td>-0.327642</td>\n",
       "      <td>-0.139097</td>\n",
       "      <td>-0.055353</td>\n",
       "      <td>-0.059752</td>\n",
       "      <td>378.66</td>\n",
       "      <td>0</td>\n",
       "    </tr>\n",
       "    <tr>\n",
       "      <th>3</th>\n",
       "      <td>1.0</td>\n",
       "      <td>-0.966272</td>\n",
       "      <td>-0.185226</td>\n",
       "      <td>1.792993</td>\n",
       "      <td>-0.863291</td>\n",
       "      <td>-0.010309</td>\n",
       "      <td>1.247203</td>\n",
       "      <td>0.237609</td>\n",
       "      <td>0.377436</td>\n",
       "      <td>-1.387024</td>\n",
       "      <td>...</td>\n",
       "      <td>-0.108300</td>\n",
       "      <td>0.005274</td>\n",
       "      <td>-0.190321</td>\n",
       "      <td>-1.175575</td>\n",
       "      <td>0.647376</td>\n",
       "      <td>-0.221929</td>\n",
       "      <td>0.062723</td>\n",
       "      <td>0.061458</td>\n",
       "      <td>123.50</td>\n",
       "      <td>0</td>\n",
       "    </tr>\n",
       "    <tr>\n",
       "      <th>4</th>\n",
       "      <td>2.0</td>\n",
       "      <td>-1.158233</td>\n",
       "      <td>0.877737</td>\n",
       "      <td>1.548718</td>\n",
       "      <td>0.403034</td>\n",
       "      <td>-0.407193</td>\n",
       "      <td>0.095921</td>\n",
       "      <td>0.592941</td>\n",
       "      <td>-0.270533</td>\n",
       "      <td>0.817739</td>\n",
       "      <td>...</td>\n",
       "      <td>-0.009431</td>\n",
       "      <td>0.798278</td>\n",
       "      <td>-0.137458</td>\n",
       "      <td>0.141267</td>\n",
       "      <td>-0.206010</td>\n",
       "      <td>0.502292</td>\n",
       "      <td>0.219422</td>\n",
       "      <td>0.215153</td>\n",
       "      <td>69.99</td>\n",
       "      <td>0</td>\n",
       "    </tr>\n",
       "  </tbody>\n",
       "</table>\n",
       "<p>5 rows × 31 columns</p>\n",
       "</div>"
      ],
      "text/plain": [
       "   Time        V1        V2        V3        V4        V5        V6        V7  \\\n",
       "0   0.0 -1.359807 -0.072781  2.536347  1.378155 -0.338321  0.462388  0.239599   \n",
       "1   0.0  1.191857  0.266151  0.166480  0.448154  0.060018 -0.082361 -0.078803   \n",
       "2   1.0 -1.358354 -1.340163  1.773209  0.379780 -0.503198  1.800499  0.791461   \n",
       "3   1.0 -0.966272 -0.185226  1.792993 -0.863291 -0.010309  1.247203  0.237609   \n",
       "4   2.0 -1.158233  0.877737  1.548718  0.403034 -0.407193  0.095921  0.592941   \n",
       "\n",
       "         V8        V9  ...       V21       V22       V23       V24       V25  \\\n",
       "0  0.098698  0.363787  ... -0.018307  0.277838 -0.110474  0.066928  0.128539   \n",
       "1  0.085102 -0.255425  ... -0.225775 -0.638672  0.101288 -0.339846  0.167170   \n",
       "2  0.247676 -1.514654  ...  0.247998  0.771679  0.909412 -0.689281 -0.327642   \n",
       "3  0.377436 -1.387024  ... -0.108300  0.005274 -0.190321 -1.175575  0.647376   \n",
       "4 -0.270533  0.817739  ... -0.009431  0.798278 -0.137458  0.141267 -0.206010   \n",
       "\n",
       "        V26       V27       V28  Amount  Class  \n",
       "0 -0.189115  0.133558 -0.021053  149.62      0  \n",
       "1  0.125895 -0.008983  0.014724    2.69      0  \n",
       "2 -0.139097 -0.055353 -0.059752  378.66      0  \n",
       "3 -0.221929  0.062723  0.061458  123.50      0  \n",
       "4  0.502292  0.219422  0.215153   69.99      0  \n",
       "\n",
       "[5 rows x 31 columns]"
      ]
     },
     "execution_count": 2,
     "metadata": {},
     "output_type": "execute_result"
    }
   ],
   "source": [
    "raw_df = pd.read_csv(\"creditcard.csv\")\n",
    "\n",
    "raw_df.head()"
   ]
  },
  {
   "cell_type": "code",
   "execution_count": 3,
   "metadata": {},
   "outputs": [
    {
     "name": "stdout",
     "output_type": "stream",
     "text": [
      "(492, 31)\n"
     ]
    }
   ],
   "source": [
    "print(raw_df[raw_df.Class == 1].shape)\n",
    "\n",
    "fraud_df = raw_df[raw_df.Class == 1]"
   ]
  },
  {
   "cell_type": "code",
   "execution_count": 4,
   "metadata": {},
   "outputs": [
    {
     "name": "stdout",
     "output_type": "stream",
     "text": [
      "(284315, 31)\n"
     ]
    }
   ],
   "source": [
    "print(raw_df[raw_df.Class == 0].shape)\n",
    "\n",
    "innocent_df = raw_df[raw_df.Class == 0]"
   ]
  },
  {
   "cell_type": "code",
   "execution_count": 5,
   "metadata": {},
   "outputs": [],
   "source": [
    "bigdata = fraud_df.append(innocent_df.head(fraud_df.shape[0]), ignore_index=True)"
   ]
  },
  {
   "cell_type": "code",
   "execution_count": 6,
   "metadata": {},
   "outputs": [
    {
     "name": "stdout",
     "output_type": "stream",
     "text": [
      "Jumlah class 1 : 492\n",
      "Jumlah class 0 : 492\n",
      "Jumlah baris : 984\n"
     ]
    }
   ],
   "source": [
    "print('Jumlah class 1 : {}'.format(bigdata[bigdata.Class == 1].shape[0]))\n",
    "print('Jumlah class 0 : {}'.format(bigdata[bigdata.Class == 0].shape[0]))\n",
    "print('Jumlah baris : {}'.format(bigdata.shape[0]))"
   ]
  },
  {
   "cell_type": "code",
   "execution_count": 7,
   "metadata": {},
   "outputs": [
    {
     "name": "stdout",
     "output_type": "stream",
     "text": [
      "Apakah ada data yang bernilai Null? False\n",
      "Apakah ada data yang bernilai NaN? False\n"
     ]
    }
   ],
   "source": [
    "print('Apakah ada data yang bernilai Null? {}'.format(bigdata.isnull().values.any()))\n",
    "print('Apakah ada data yang bernilai NaN? {}'.format(bigdata.isna().values.any()))"
   ]
  },
  {
   "cell_type": "code",
   "execution_count": 8,
   "metadata": {},
   "outputs": [
    {
     "data": {
      "text/plain": [
       "Time      float64\n",
       "V1        float64\n",
       "V2        float64\n",
       "V3        float64\n",
       "V4        float64\n",
       "V5        float64\n",
       "V6        float64\n",
       "V7        float64\n",
       "V8        float64\n",
       "V9        float64\n",
       "V10       float64\n",
       "V11       float64\n",
       "V12       float64\n",
       "V13       float64\n",
       "V14       float64\n",
       "V15       float64\n",
       "V16       float64\n",
       "V17       float64\n",
       "V18       float64\n",
       "V19       float64\n",
       "V20       float64\n",
       "V21       float64\n",
       "V22       float64\n",
       "V23       float64\n",
       "V24       float64\n",
       "V25       float64\n",
       "V26       float64\n",
       "V27       float64\n",
       "V28       float64\n",
       "Amount    float64\n",
       "Class       int64\n",
       "dtype: object"
      ]
     },
     "execution_count": 8,
     "metadata": {},
     "output_type": "execute_result"
    }
   ],
   "source": [
    "bigdata.dtypes"
   ]
  },
  {
   "cell_type": "code",
   "execution_count": 9,
   "metadata": {},
   "outputs": [
    {
     "data": {
      "text/plain": [
       "array([1, 0], dtype=int64)"
      ]
     },
     "execution_count": 9,
     "metadata": {},
     "output_type": "execute_result"
    }
   ],
   "source": [
    "bigdata['Class'].unique()"
   ]
  },
  {
   "cell_type": "code",
   "execution_count": 10,
   "metadata": {},
   "outputs": [
    {
     "data": {
      "text/plain": [
       "<matplotlib.axes._subplots.AxesSubplot at 0x2386146bc88>"
      ]
     },
     "execution_count": 10,
     "metadata": {},
     "output_type": "execute_result"
    },
    {
     "data": {
      "image/png": "[encoded data removed]",
      "text/plain": [
       "<Figure size 432x288 with 1 Axes>"
      ]
     },
     "metadata": {
      "needs_background": "light"
     },
     "output_type": "display_data"
    }
   ],
   "source": [
    "sns.boxplot(data=[bigdata['V1'],bigdata['V2'],bigdata['V3'],bigdata['V4'],bigdata['V5'],bigdata['V6'],bigdata['V7'],bigdata['V8'],bigdata['V9'],bigdata['V10']])"
   ]
  },
  {
   "cell_type": "code",
   "execution_count": 11,
   "metadata": {},
   "outputs": [
    {
     "data": {
      "text/plain": [
       "<matplotlib.axes._subplots.AxesSubplot at 0x2386667de80>"
      ]
     },
     "execution_count": 11,
     "metadata": {},
     "output_type": "execute_result"
    },
    {
     "data": {
      "image/png": "[encoded data removed]",
      "text/plain": [
       "<Figure size 432x288 with 1 Axes>"
      ]
     },
     "metadata": {
      "needs_background": "light"
     },
     "output_type": "display_data"
    }
   ],
   "source": [
    "sns.boxplot(data=[bigdata['V11'],bigdata['V12'],bigdata['V13'],bigdata['V14'],bigdata['V15'],bigdata['V16'],bigdata['V17'],bigdata['V18'],bigdata['V19'],bigdata['V20'],bigdata['V21'],bigdata['V22'],bigdata['V23'],bigdata['V24'],bigdata['V25'],bigdata['V26'],bigdata['V27'],bigdata['V28']])"
   ]
  },
  {
   "cell_type": "code",
   "execution_count": 12,
   "metadata": {},
   "outputs": [
    {
     "data": {
      "text/plain": [
       "<matplotlib.axes._subplots.AxesSubplot at 0x23866d20ac8>"
      ]
     },
     "execution_count": 12,
     "metadata": {},
     "output_type": "execute_result"
    },
    {
     "data": {
      "image/png": "[encoded data removed]",
      "text/plain": [
       "<Figure size 432x288 with 1 Axes>"
      ]
     },
     "metadata": {
      "needs_background": "light"
     },
     "output_type": "display_data"
    }
   ],
   "source": [
    "sns.boxplot(data=[bigdata['V21'],bigdata['V22'],bigdata['V23'],bigdata['V24'],bigdata['V25'],bigdata['V26'],bigdata['V27'],bigdata['V28']])"
   ]
  },
  {
   "cell_type": "code",
   "execution_count": 13,
   "metadata": {},
   "outputs": [],
   "source": [
    "#dataframe yang kalian pake di variable bigdata\n",
    "#tulis kodingan kalian di bawah sini"
   ]
  },
  {
   "cell_type": "code",
   "execution_count": 14,
   "metadata": {},
   "outputs": [],
   "source": [
    "y = bigdata['Class']\n",
    "x = bigdata[['Time','V1','V2','V3','V4','V5','V6','V7','V8','V9','V10','V11','V12','V13','V14','V15','V16','V17','V18','V19','V20','V21','V22','V23','V24','V25','V26','V27','V28','Amount']]"
   ]
  },
  {
   "cell_type": "code",
   "execution_count": 15,
   "metadata": {},
   "outputs": [],
   "source": [
    "X_train,X_test,y_train,y_test = model_selection.train_test_split(x,y,test_size=0.25,random_state=0)"
   ]
  },
  {
   "cell_type": "code",
   "execution_count": 16,
   "metadata": {},
   "outputs": [
    {
     "name": "stderr",
     "output_type": "stream",
     "text": [
      "C:\\Users\\Firdaus\\Anaconda3\\lib\\site-packages\\sklearn\\linear_model\\logistic.py:432: FutureWarning: Default solver will be changed to 'lbfgs' in 0.22. Specify a solver to silence this warning.\n",
      "  FutureWarning)\n"
     ]
    },
    {
     "data": {
      "text/plain": [
       "LogisticRegression(C=1.0, class_weight=None, dual=False, fit_intercept=True,\n",
       "                   intercept_scaling=1, l1_ratio=None, max_iter=100,\n",
       "                   multi_class='warn', n_jobs=None, penalty='l2',\n",
       "                   random_state=None, solver='warn', tol=0.0001, verbose=0,\n",
       "                   warm_start=False)"
      ]
     },
     "execution_count": 16,
     "metadata": {},
     "output_type": "execute_result"
    }
   ],
   "source": [
    "logreg = LogisticRegression()\n",
    "\n",
    "logreg.fit(X_train,y_train)"
   ]
  },
  {
   "cell_type": "code",
   "execution_count": 17,
   "metadata": {},
   "outputs": [],
   "source": [
    "y_pred=logreg.predict(X_test)"
   ]
  },
  {
   "cell_type": "code",
   "execution_count": 18,
   "metadata": {},
   "outputs": [
    {
     "data": {
      "text/plain": [
       "array([[ 96,  31],\n",
       "       [  1, 118]], dtype=int64)"
      ]
     },
     "execution_count": 18,
     "metadata": {},
     "output_type": "execute_result"
    }
   ],
   "source": [
    "from sklearn import metrics\n",
    "cnf_matrix = metrics.confusion_matrix(y_test, y_pred)\n",
    "cnf_matrix"
   ]
  },
  {
   "cell_type": "code",
   "execution_count": 19,
   "metadata": {},
   "outputs": [
    {
     "data": {
      "text/plain": [
       "Text(0.5, 257.44, 'Predicted label')"
      ]
     },
     "execution_count": 19,
     "metadata": {},
     "output_type": "execute_result"
    },
    {
     "data": {
      "image/png": "[encoded data removed]",
      "text/plain": [
       "<Figure size 432x288 with 2 Axes>"
      ]
     },
     "metadata": {
      "needs_background": "light"
     },
     "output_type": "display_data"
    }
   ],
   "source": [
    "class_names=[0,1] # name  of classes\n",
    "fig, ax = plt.subplots()\n",
    "tick_marks = np.arange(len(class_names))\n",
    "plt.xticks(tick_marks, class_names)\n",
    "plt.yticks(tick_marks, class_names)\n",
    "# create heatmap\n",
    "sns.heatmap(pd.DataFrame(cnf_matrix), annot=True, cmap=\"YlGnBu\" ,fmt='g')\n",
    "ax.xaxis.set_label_position(\"top\")\n",
    "plt.tight_layout()\n",
    "plt.title('Confusion matrix', y=1.1)\n",
    "plt.ylabel('Actual label')\n",
    "plt.xlabel('Predicted label')"
   ]
  },
  {
   "cell_type": "code",
   "execution_count": 20,
   "metadata": {},
   "outputs": [
    {
     "name": "stdout",
     "output_type": "stream",
     "text": [
      "Accuracy: 0.8699186991869918\n",
      "Precision: 0.7919463087248322\n",
      "Recall: 0.9915966386554622\n",
      "F1 Score: 0.8805970149253731\n"
     ]
    }
   ],
   "source": [
    "print(\"Accuracy:\",metrics.accuracy_score(y_test, y_pred))\n",
    "print(\"Precision:\",metrics.precision_score(y_test, y_pred))\n",
    "print(\"Recall:\",metrics.recall_score(y_test, y_pred))\n",
    "\n",
    "precision = metrics.precision_score(y_test, y_pred)\n",
    "recall = metrics.recall_score(y_test, y_pred)\n",
    "\n",
    "f1_score = 2 * (precision * recall) / (precision + recall)\n",
    "\n",
    "print(\"F1 Score:\",f1_score)"
   ]
  },
  {
   "cell_type": "markdown",
   "metadata": {},
   "source": [
    "# Naive Bayes"
   ]
  },
  {
   "cell_type": "code",
   "execution_count": 21,
   "metadata": {},
   "outputs": [],
   "source": [
    "import pandas as pd\n",
    "import seaborn as sns\n",
    "import numpy as np\n",
    "import math\n",
    "from math import sqrt\n",
    "from math import exp\n",
    "from math import pi\n",
    "\n",
    "dfnb = bigdata.copy()\n",
    "\n"
   ]
  },
  {
   "cell_type": "code",
   "execution_count": 22,
   "metadata": {},
   "outputs": [],
   "source": [
    "#Fungsi Distribusi Normal\n",
    "\n",
    "def calculateProbability(x, mean, stdev):\n",
    "\n",
    "    exponent = math.exp(-(math.pow(x-mean,2)/(2*math.pow(stdev,2))))\n",
    "\n",
    "    return (1/(math.sqrt(2*math.pi)*stdev))*exponent"
   ]
  },
  {
   "cell_type": "code",
   "execution_count": 23,
   "metadata": {},
   "outputs": [
    {
     "data": {
      "text/html": [
       "<div>\n",
       "<style scoped>\n",
       "    .dataframe tbody tr th:only-of-type {\n",
       "        vertical-align: middle;\n",
       "    }\n",
       "\n",
       "    .dataframe tbody tr th {\n",
       "        vertical-align: top;\n",
       "    }\n",
       "\n",
       "    .dataframe thead th {\n",
       "        text-align: right;\n",
       "    }\n",
       "</style>\n",
       "<table border=\"1\" class=\"dataframe\">\n",
       "  <thead>\n",
       "    <tr style=\"text-align: right;\">\n",
       "      <th></th>\n",
       "      <th>Time</th>\n",
       "      <th>V1</th>\n",
       "      <th>V2</th>\n",
       "      <th>V3</th>\n",
       "      <th>V4</th>\n",
       "      <th>V5</th>\n",
       "      <th>V6</th>\n",
       "      <th>V7</th>\n",
       "      <th>V8</th>\n",
       "      <th>V9</th>\n",
       "      <th>...</th>\n",
       "      <th>V20</th>\n",
       "      <th>V21</th>\n",
       "      <th>V22</th>\n",
       "      <th>V23</th>\n",
       "      <th>V24</th>\n",
       "      <th>V25</th>\n",
       "      <th>V26</th>\n",
       "      <th>V27</th>\n",
       "      <th>V28</th>\n",
       "      <th>Amount</th>\n",
       "    </tr>\n",
       "  </thead>\n",
       "  <tbody>\n",
       "    <tr>\n",
       "      <th>243</th>\n",
       "      <td>74262.0</td>\n",
       "      <td>-2.250535</td>\n",
       "      <td>2.365755</td>\n",
       "      <td>-2.955491</td>\n",
       "      <td>0.089791</td>\n",
       "      <td>-2.830745</td>\n",
       "      <td>-0.844462</td>\n",
       "      <td>-0.174062</td>\n",
       "      <td>-0.407138</td>\n",
       "      <td>0.174216</td>\n",
       "      <td>...</td>\n",
       "      <td>-0.486537</td>\n",
       "      <td>0.256560</td>\n",
       "      <td>-0.466245</td>\n",
       "      <td>0.291105</td>\n",
       "      <td>0.242567</td>\n",
       "      <td>-1.279094</td>\n",
       "      <td>-1.123534</td>\n",
       "      <td>-0.630977</td>\n",
       "      <td>0.326839</td>\n",
       "      <td>311.28</td>\n",
       "    </tr>\n",
       "    <tr>\n",
       "      <th>343</th>\n",
       "      <td>102619.0</td>\n",
       "      <td>-2.488363</td>\n",
       "      <td>4.359019</td>\n",
       "      <td>-7.776410</td>\n",
       "      <td>5.364027</td>\n",
       "      <td>-1.823877</td>\n",
       "      <td>-2.445140</td>\n",
       "      <td>-4.964221</td>\n",
       "      <td>1.484890</td>\n",
       "      <td>-2.947899</td>\n",
       "      <td>...</td>\n",
       "      <td>0.792275</td>\n",
       "      <td>1.325672</td>\n",
       "      <td>1.021226</td>\n",
       "      <td>-0.266476</td>\n",
       "      <td>-0.370880</td>\n",
       "      <td>0.365535</td>\n",
       "      <td>0.081372</td>\n",
       "      <td>0.184983</td>\n",
       "      <td>-0.211582</td>\n",
       "      <td>1.00</td>\n",
       "    </tr>\n",
       "    <tr>\n",
       "      <th>202</th>\n",
       "      <td>59840.0</td>\n",
       "      <td>-3.215382</td>\n",
       "      <td>-0.364223</td>\n",
       "      <td>-1.261883</td>\n",
       "      <td>3.794949</td>\n",
       "      <td>0.711206</td>\n",
       "      <td>-1.316476</td>\n",
       "      <td>-5.165141</td>\n",
       "      <td>0.625278</td>\n",
       "      <td>-1.582301</td>\n",
       "      <td>...</td>\n",
       "      <td>0.019626</td>\n",
       "      <td>0.401341</td>\n",
       "      <td>0.152191</td>\n",
       "      <td>-0.934675</td>\n",
       "      <td>-0.256148</td>\n",
       "      <td>-0.469403</td>\n",
       "      <td>-0.282496</td>\n",
       "      <td>0.866077</td>\n",
       "      <td>-0.433466</td>\n",
       "      <td>5.91</td>\n",
       "    </tr>\n",
       "    <tr>\n",
       "      <th>561</th>\n",
       "      <td>46.0</td>\n",
       "      <td>-1.923213</td>\n",
       "      <td>-0.870482</td>\n",
       "      <td>2.320170</td>\n",
       "      <td>1.988776</td>\n",
       "      <td>0.417091</td>\n",
       "      <td>-0.380014</td>\n",
       "      <td>0.472139</td>\n",
       "      <td>-0.557333</td>\n",
       "      <td>-0.649079</td>\n",
       "      <td>...</td>\n",
       "      <td>-0.369227</td>\n",
       "      <td>-0.686488</td>\n",
       "      <td>-0.779268</td>\n",
       "      <td>1.086055</td>\n",
       "      <td>0.518863</td>\n",
       "      <td>-0.363712</td>\n",
       "      <td>3.065576</td>\n",
       "      <td>-0.589022</td>\n",
       "      <td>-0.396110</td>\n",
       "      <td>35.00</td>\n",
       "    </tr>\n",
       "    <tr>\n",
       "      <th>230</th>\n",
       "      <td>68207.0</td>\n",
       "      <td>-13.192671</td>\n",
       "      <td>12.785971</td>\n",
       "      <td>-9.906650</td>\n",
       "      <td>3.320337</td>\n",
       "      <td>-4.801176</td>\n",
       "      <td>5.760059</td>\n",
       "      <td>-18.750889</td>\n",
       "      <td>-37.353443</td>\n",
       "      <td>-0.391540</td>\n",
       "      <td>...</td>\n",
       "      <td>-3.493050</td>\n",
       "      <td>27.202839</td>\n",
       "      <td>-8.887017</td>\n",
       "      <td>5.303607</td>\n",
       "      <td>-0.639435</td>\n",
       "      <td>0.263203</td>\n",
       "      <td>-0.108877</td>\n",
       "      <td>1.269566</td>\n",
       "      <td>0.939407</td>\n",
       "      <td>1.00</td>\n",
       "    </tr>\n",
       "  </tbody>\n",
       "</table>\n",
       "<p>5 rows × 30 columns</p>\n",
       "</div>"
      ],
      "text/plain": [
       "         Time         V1         V2        V3        V4        V5        V6  \\\n",
       "243   74262.0  -2.250535   2.365755 -2.955491  0.089791 -2.830745 -0.844462   \n",
       "343  102619.0  -2.488363   4.359019 -7.776410  5.364027 -1.823877 -2.445140   \n",
       "202   59840.0  -3.215382  -0.364223 -1.261883  3.794949  0.711206 -1.316476   \n",
       "561      46.0  -1.923213  -0.870482  2.320170  1.988776  0.417091 -0.380014   \n",
       "230   68207.0 -13.192671  12.785971 -9.906650  3.320337 -4.801176  5.760059   \n",
       "\n",
       "            V7         V8        V9  ...       V20        V21       V22  \\\n",
       "243  -0.174062  -0.407138  0.174216  ... -0.486537   0.256560 -0.466245   \n",
       "343  -4.964221   1.484890 -2.947899  ...  0.792275   1.325672  1.021226   \n",
       "202  -5.165141   0.625278 -1.582301  ...  0.019626   0.401341  0.152191   \n",
       "561   0.472139  -0.557333 -0.649079  ... -0.369227  -0.686488 -0.779268   \n",
       "230 -18.750889 -37.353443 -0.391540  ... -3.493050  27.202839 -8.887017   \n",
       "\n",
       "          V23       V24       V25       V26       V27       V28  Amount  \n",
       "243  0.291105  0.242567 -1.279094 -1.123534 -0.630977  0.326839  311.28  \n",
       "343 -0.266476 -0.370880  0.365535  0.081372  0.184983 -0.211582    1.00  \n",
       "202 -0.934675 -0.256148 -0.469403 -0.282496  0.866077 -0.433466    5.91  \n",
       "561  1.086055  0.518863 -0.363712  3.065576 -0.589022 -0.396110   35.00  \n",
       "230  5.303607 -0.639435  0.263203 -0.108877  1.269566  0.939407    1.00  \n",
       "\n",
       "[5 rows x 30 columns]"
      ]
     },
     "execution_count": 23,
     "metadata": {},
     "output_type": "execute_result"
    }
   ],
   "source": [
    "#Proses Split Data\n",
    "\n",
    "x = dfnb.copy()\n",
    "\n",
    "# Import train_test_split function\n",
    "from sklearn.model_selection import train_test_split\n",
    "\n",
    "#Proses Split Data dengan ukuran data_test = 30% dan data_train = 70%\n",
    "x_train, x_test = train_test_split(x, test_size = 0.3, random_state = 123)\n",
    "\n",
    "df_class01 = x_train[x_train['Class'] == 1]\n",
    "df_class00 = x_train[x_train['Class'] == 0]\n",
    "\n",
    "# Variabel dependen\n",
    "y_train = x_train['Class']\n",
    "y_test = x_test['Class']\n",
    "\n",
    "\n",
    "# Variabel independen\n",
    "x_train = x_train.drop(['Class'], axis = 1)\n",
    "x_test = x_test.drop(['Class'], axis = 1)\n",
    "x_train.head()\n"
   ]
  },
  {
   "cell_type": "code",
   "execution_count": 24,
   "metadata": {},
   "outputs": [
    {
     "name": "stdout",
     "output_type": "stream",
     "text": [
      "Time      49065.154550\n",
      "V1            6.689612\n",
      "V2            4.207255\n",
      "V3            6.871955\n",
      "V4            2.841555\n",
      "V5            5.359081\n",
      "V6            1.808411\n",
      "V7            7.056036\n",
      "V8            6.565716\n",
      "V9            2.493296\n",
      "V10           4.704734\n",
      "V11           2.624950\n",
      "V12           4.558946\n",
      "V13           1.086218\n",
      "V14           4.244519\n",
      "V15           1.049142\n",
      "V16           3.895029\n",
      "V17           7.097563\n",
      "V18           2.978549\n",
      "V19           1.557758\n",
      "V20           1.320634\n",
      "V21           3.547597\n",
      "V22           1.401493\n",
      "V23           1.741137\n",
      "V24           0.522547\n",
      "V25           0.821742\n",
      "V26           0.433077\n",
      "V27           1.282688\n",
      "V28           0.529824\n",
      "Amount      254.338209\n",
      "dtype: float64\n"
     ]
    }
   ],
   "source": [
    "#Mencari Standar deviasi dan rata2 dari tiap kelas\n",
    "\n",
    "df_class01 = df_class01.drop(['Class'], axis = 1)\n",
    "df_class00 = df_class00.drop(['Class'], axis = 1)\n",
    "\n",
    "std_01 = df_class01.std()\n",
    "std_00 = df_class00.std()\n",
    "mean_01 = df_class01.mean()\n",
    "mean_00 = df_class00.mean()\n",
    "\n",
    "print(std_01)\n",
    "#print()\n",
    "#print(mean_00)"
   ]
  },
  {
   "cell_type": "code",
   "execution_count": 25,
   "metadata": {},
   "outputs": [
    {
     "data": {
      "text/plain": [
       "296"
      ]
     },
     "execution_count": 25,
     "metadata": {},
     "output_type": "execute_result"
    }
   ],
   "source": [
    "#Perhitungan probabilitas dari setiap atribut untuk Class = 1\n",
    "\n",
    "x_test = x_test.sort_index()\n",
    "y_test = y_test.sort_index()\n",
    "#x_test = x_test.reset_index()\n",
    "prob1 = []\n",
    "\n",
    "for index, row in x_test.iterrows():\n",
    "    prob = ((calculateProbability(row['Time'], mean_01['Time'], std_01['Time']))*(calculateProbability(row['V1'], mean_01['V1'], std_01['V1']))*(calculateProbability(row['V2'], mean_01['V2'], std_01['V2']))*(calculateProbability(row['V3'], mean_01['V3'], std_01['V3']))*(calculateProbability(row['V4'], mean_01['V4'], std_01['V4']))*(calculateProbability(row['V5'], mean_01['V5'], std_01['V5']))*(calculateProbability(row['V6'], mean_01['V6'], std_01['V6']))*(calculateProbability(row['V7'], mean_01['V7'], std_01['V7']))*(calculateProbability(row['V8'], mean_01['V8'], std_01['V8']))*(calculateProbability(row['V9'], mean_01['V9'], std_01['V9']))*(calculateProbability(row['V10'], mean_01['V10'], std_01['V10']))\n",
    "    *(calculateProbability(row['V11'], mean_01['V11'], std_01['V11']))*(calculateProbability(row['V12'], mean_01['V12'], std_01['V12']))*(calculateProbability(row['V13'], mean_01['V13'], std_01['V13']))*(calculateProbability(row['V14'], mean_01['V14'], std_01['V14']))*(calculateProbability(row['V15'], mean_01['V15'], std_01['V15']))*(calculateProbability(row['V16'], mean_01['V16'], std_01['V16']))*(calculateProbability(row['V17'], mean_01['V17'], std_01['V17']))*(calculateProbability(row['V18'], mean_01['V18'], std_01['V18']))*(calculateProbability(row['V19'], mean_01['V19'], std_01['V19']))*(calculateProbability(row['V20'], mean_01['V20'], std_01['V20']))\n",
    "    *(calculateProbability(row['V21'], mean_01['V21'], std_01['V21']))*(calculateProbability(row['V22'], mean_01['V22'], std_01['V22']))*(calculateProbability(row['V23'], mean_01['V23'], std_01['V23']))*(calculateProbability(row['V24'], mean_01['V24'], std_01['V24']))*(calculateProbability(row['V25'], mean_01['V25'], std_01['V25']))*(calculateProbability(row['V26'], mean_01['V26'], std_01['V26']))*(calculateProbability(row['V27'], mean_01['V27'], std_01['V27']))*(calculateProbability(row['V28'], mean_01['V28'], std_01['V28']))*(calculateProbability(row['Amount'], mean_01['Amount'], std_01['Amount'])))\n",
    "    prob1.append(prob)\n",
    "\n",
    "len(prob1)"
   ]
  },
  {
   "cell_type": "code",
   "execution_count": 26,
   "metadata": {},
   "outputs": [
    {
     "data": {
      "text/plain": [
       "296"
      ]
     },
     "execution_count": 26,
     "metadata": {},
     "output_type": "execute_result"
    }
   ],
   "source": [
    "#Perhitungan probabilitas dari setiap atribut untuk Class = 0\n",
    "\n",
    "prob0 = []\n",
    "\n",
    "for index, row in x_test.iterrows():\n",
    "    prob = ((calculateProbability(row['Time'], mean_00['Time'], std_00['Time']))*(calculateProbability(row['V1'], mean_00['V1'], std_00['V1']))*(calculateProbability(row['V2'], mean_00['V2'], std_00['V2']))*(calculateProbability(row['V3'], mean_00['V3'], std_00['V3']))*(calculateProbability(row['V4'], mean_00['V4'], std_00['V4']))*(calculateProbability(row['V5'], mean_00['V5'], std_00['V5']))*(calculateProbability(row['V6'], mean_00['V6'], std_00['V6']))*(calculateProbability(row['V7'], mean_00['V7'], std_00['V7']))*(calculateProbability(row['V8'], mean_00['V8'], std_00['V8']))*(calculateProbability(row['V9'], mean_00['V9'], std_00['V9']))*(calculateProbability(row['V10'], mean_00['V10'], std_00['V10']))\n",
    "    *(calculateProbability(row['V11'], mean_00['V11'], std_00['V11']))*(calculateProbability(row['V12'], mean_00['V12'], std_00['V12']))*(calculateProbability(row['V13'], mean_00['V13'], std_00['V13']))*(calculateProbability(row['V14'], mean_00['V14'], std_00['V14']))*(calculateProbability(row['V15'], mean_00['V15'], std_00['V15']))*(calculateProbability(row['V16'], mean_00['V16'], std_00['V16']))*(calculateProbability(row['V17'], mean_00['V17'], std_00['V17']))*(calculateProbability(row['V18'], mean_00['V18'], std_00['V18']))*(calculateProbability(row['V19'], mean_00['V19'], std_00['V19']))*(calculateProbability(row['V20'], mean_00['V20'], std_00['V20']))\n",
    "    *(calculateProbability(row['V21'], mean_00['V21'], std_00['V21']))*(calculateProbability(row['V22'], mean_00['V22'], std_00['V22']))*(calculateProbability(row['V23'], mean_00['V23'], std_00['V23']))*(calculateProbability(row['V24'], mean_00['V24'], std_00['V24']))*(calculateProbability(row['V25'], mean_00['V25'], std_00['V25']))*(calculateProbability(row['V26'], mean_00['V26'], std_00['V26']))*(calculateProbability(row['V27'], mean_00['V27'], std_00['V27']))*(calculateProbability(row['V28'], mean_00['V28'], std_00['V28']))*(calculateProbability(row['Amount'], mean_00['Amount'], std_00['Amount'])))\n",
    "    prob0.append(prob)\n",
    "\n",
    "len(prob0)"
   ]
  },
  {
   "cell_type": "code",
   "execution_count": 27,
   "metadata": {},
   "outputs": [],
   "source": [
    "#Proses prediksi hasil akhir dari model yang dibuat\n",
    "\n",
    "pred = []\n",
    "for i in range(len(prob1)):\n",
    "    if (prob1[i] >= prob0[i]):\n",
    "        pred.append(1)\n",
    "    else:\n",
    "        pred.append(0)"
   ]
  },
  {
   "cell_type": "code",
   "execution_count": 28,
   "metadata": {},
   "outputs": [
    {
     "data": {
      "text/plain": [
       "array([[138,   3],\n",
       "       [  0, 155]], dtype=int64)"
      ]
     },
     "execution_count": 28,
     "metadata": {},
     "output_type": "execute_result"
    }
   ],
   "source": [
    "# import confusion_matrix model\n",
    "from sklearn.metrics import confusion_matrix\n",
    "\n",
    "confusion_matrix(y_test, pred)"
   ]
  },
  {
   "cell_type": "code",
   "execution_count": 29,
   "metadata": {},
   "outputs": [
    {
     "name": "stdout",
     "output_type": "stream",
     "text": [
      "              precision    recall  f1-score   support\n",
      "\n",
      "           0       1.00      0.98      0.99       141\n",
      "           1       0.98      1.00      0.99       155\n",
      "\n",
      "    accuracy                           0.99       296\n",
      "   macro avg       0.99      0.99      0.99       296\n",
      "weighted avg       0.99      0.99      0.99       296\n",
      "\n"
     ]
    }
   ],
   "source": [
    "from sklearn.metrics import classification_report\n",
    "\n",
    "print(classification_report(y_test,pred))"
   ]
  },
  {
   "cell_type": "markdown",
   "metadata": {},
   "source": [
    "# Decision Tree"
   ]
  },
  {
   "cell_type": "code",
   "execution_count": 30,
   "metadata": {},
   "outputs": [
    {
     "name": "stdout",
     "output_type": "stream",
     "text": [
      "Results Using Gini Index:\n",
      "Predicted values:\n",
      "[0 0 1 0 0 1 1 0 0 1 1 0 0 1 1 1 0 1 1 1 0 1 1 1 0 0 0 1 0 0 1 1 1 1 0 1 1\n",
      " 1 0 0 0 1 0 1 1 0 0 1 1 1 0 1 1 0 0 1 1 1 1 1 0 1 1 0 1 1 0 1 1 0 0 1 0 1\n",
      " 1 1 0 1 1 1 1 1 0 0 0 1 0 1 1 1 1 0 0 0 1 0 0 0 1 1 1 0 1 1 1 0 1 0 1 0 0\n",
      " 0 1 0 0 0 1 0 0 0 1 0 0 1 1 0 0 0 1 0 1 1 1 0 0 0 1 1 1 0 0 0 0 1 1 1 0 0\n",
      " 1 0 0 0 1 0 1 1 0 1 0 1 1 1 0 1 0 1 0 0 0 1 0 1 0 1 1 1 0 0 0 0 1 1 1 1 0\n",
      " 0 0 1 1 1 0 1 1 0 1 1 1 1 0 0 1 1 0 1 0 0 1 1 1 1 1 0 1 1 1 0 1 1 1 0 1 0\n",
      " 1 0 1 0 1 1 1 0 0 0 1 0 1 0 1 0 1 1 0 1 0 0 1 0 0 1 1 0 0 1 1 1 1 1 1 1 0\n",
      " 0 0 1 0 1 1 1 0 0 0 0 1 0 1 0 1 0 0 1 0 1 1 0 0 1 0 1 1 0 1 1 1 1 1 1 1 0]\n",
      "Confusion Matrix:  [[133   0]\n",
      " [  0 163]]\n",
      "Accuracy :  100.0\n",
      "Report :                precision    recall  f1-score   support\n",
      "\n",
      "           0       1.00      1.00      1.00       133\n",
      "           1       1.00      1.00      1.00       163\n",
      "\n",
      "    accuracy                           1.00       296\n",
      "   macro avg       1.00      1.00      1.00       296\n",
      "weighted avg       1.00      1.00      1.00       296\n",
      "\n",
      "Results Using Entropy:\n",
      "Predicted values:\n",
      "[0 0 1 0 0 1 1 0 0 1 1 0 0 1 1 1 0 1 1 1 0 1 1 1 0 0 0 1 0 0 1 1 1 1 0 1 1\n",
      " 1 0 0 0 1 0 1 1 0 0 1 1 1 0 1 1 0 0 1 1 1 1 1 0 1 1 0 1 1 0 1 1 0 0 1 0 1\n",
      " 1 1 0 1 1 1 1 1 0 0 0 1 0 1 1 1 1 0 0 0 1 0 0 0 1 1 1 0 1 1 1 0 1 0 1 0 0\n",
      " 0 1 0 0 0 1 0 0 0 1 0 0 1 1 0 0 0 1 0 1 1 1 0 0 0 1 1 1 0 0 0 0 1 1 1 0 0\n",
      " 1 0 0 0 1 0 1 1 0 1 0 1 1 1 0 1 0 1 0 0 0 1 0 1 0 1 1 1 0 0 0 0 1 1 1 1 0\n",
      " 0 0 1 1 1 0 1 1 0 1 1 1 1 0 0 1 1 0 1 0 0 1 1 1 1 1 0 1 1 1 0 1 1 1 0 1 0\n",
      " 1 0 1 0 1 1 1 0 0 0 1 0 1 0 1 0 1 1 0 1 0 0 1 0 0 1 1 0 0 1 1 1 1 1 1 1 0\n",
      " 0 0 1 0 1 1 1 0 0 0 0 1 0 1 0 1 0 0 1 0 1 1 0 0 1 0 1 1 0 1 1 1 1 1 1 1 0]\n",
      "Confusion Matrix:  [[133   0]\n",
      " [  0 163]]\n",
      "Accuracy :  100.0\n",
      "Report :                precision    recall  f1-score   support\n",
      "\n",
      "           0       1.00      1.00      1.00       133\n",
      "           1       1.00      1.00      1.00       163\n",
      "\n",
      "    accuracy                           1.00       296\n",
      "   macro avg       1.00      1.00      1.00       296\n",
      "weighted avg       1.00      1.00      1.00       296\n",
      "\n"
     ]
    }
   ],
   "source": [
    "import numpy as np \n",
    "import pandas as pd \n",
    "from sklearn.metrics import confusion_matrix \n",
    "from sklearn.model_selection import train_test_split\n",
    "from sklearn.tree import DecisionTreeClassifier \n",
    "from sklearn.metrics import accuracy_score \n",
    "from sklearn.metrics import classification_report\n",
    "import copy\n",
    "\n",
    "# Function to split the dataset \n",
    "def splitdataset(bigdata): \n",
    "  \n",
    "    # Separating the target variable\n",
    "    batasfeatures = bigdata.shape[1]-1\n",
    "    # data_test = int(bigdata.shape[0]*0.8)\n",
    "\n",
    "    # print(batasfeatures)\n",
    "    X = bigdata.iloc[:, 0:batasfeatures]\n",
    "    Y = bigdata.iloc[:,batasfeatures]\n",
    "    # X_train = X.iloc[data_test:]\n",
    "    # X_test = X.iloc[:data_test]\n",
    "    # y_train = Y.iloc[data_test:]\n",
    "    # y_test = Y.iloc[:data_test]\n",
    "\n",
    "    # Splitting the dataset into train and test \n",
    "    X_train, X_test, y_train, y_test = train_test_split(X, Y, test_size = 0.3, random_state = 100) \n",
    "    return X, Y, X_train, X_test, y_train, y_test \n",
    "      \n",
    "# Function to perform training with giniIndex. \n",
    "def train_using_gini(X_train, X_test, y_train): \n",
    "  \n",
    "    # Creating the classifier object \n",
    "    clf_gini = DecisionTreeClassifier(criterion = \"gini\", random_state = 100,max_depth=3, min_samples_leaf=5) \n",
    "  \n",
    "    # Performing training \n",
    "    clf_gini.fit(X_train, y_train) \n",
    "    return clf_gini \n",
    "      \n",
    "# Function to perform training with entropy. \n",
    "def train_using_entropy(X_train, X_test, y_train): \n",
    "  \n",
    "    # Decision tree with entropy \n",
    "    clf_entropy = DecisionTreeClassifier(criterion = \"entropy\", random_state = 100, max_depth = 3, min_samples_leaf = 5) \n",
    "  \n",
    "    # Performing training \n",
    "    clf_entropy.fit(X_train, y_train) \n",
    "    return clf_entropy \n",
    "  \n",
    "  \n",
    "# Function to make predictions \n",
    "def prediction(X_test, clf_object): \n",
    "  \n",
    "    # Predicton on test with giniIndex \n",
    "    y_pred = clf_object.predict(X_test) \n",
    "    print(\"Predicted values:\") \n",
    "    print(y_pred) \n",
    "    return y_pred \n",
    "      \n",
    "# Function to calculate accuracy \n",
    "def cal_accuracy(y_test, y_pred): \n",
    "      \n",
    "    print(\"Confusion Matrix: \", \n",
    "    confusion_matrix(y_test, y_pred)) \n",
    "      \n",
    "    print (\"Accuracy : \", \n",
    "    accuracy_score(y_test,y_pred)*100) \n",
    "      \n",
    "    print(\"Report : \", \n",
    "    classification_report(y_test, y_pred)) \n",
    "  \n",
    "# Driver code \n",
    "def main(): \n",
    "      \n",
    "    # Building Phase \n",
    "    data = copy.deepcopy(bigdata)\n",
    "    X, Y, X_train, X_test, y_train, y_test = splitdataset(data) \n",
    "    clf_gini = train_using_gini(X_train, X_test, y_train) \n",
    "    clf_entropy = train_using_entropy(X_train, X_test, y_train) \n",
    "    # Operational Phase \n",
    "    print(\"Results Using Gini Index:\") \n",
    "      \n",
    "    # Prediction using gini \n",
    "    y_pred_gini = prediction(X_test, clf_gini) \n",
    "    cal_accuracy(y_test, y_pred_gini) \n",
    "      \n",
    "    print(\"Results Using Entropy:\") \n",
    "    # Prediction using entropy \n",
    "    y_pred_entropy = prediction(X_test, clf_entropy) \n",
    "    cal_accuracy(y_test, y_pred_entropy) \n",
    "      \n",
    "      \n",
    "# Calling main function \n",
    "main() "
   ]
  }
 ],
 "metadata": {
  "kernelspec": {
   "display_name": "Python 3",
   "language": "python",
   "name": "python3"
  },
  "language_info": {
   "codemirror_mode": {
    "name": "ipython",
    "version": 3
   },
   "file_extension": ".py",
   "mimetype": "text/x-python",
   "name": "python",
   "nbconvert_exporter": "python",
   "pygments_lexer": "ipython3",
   "version": "3.7.3"
  }
 },
 "nbformat": 4,
 "nbformat_minor": 2
}
